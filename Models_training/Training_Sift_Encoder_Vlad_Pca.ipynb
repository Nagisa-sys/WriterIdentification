{
 "cells": [
  {
   "cell_type": "markdown",
   "metadata": {
    "colab_type": "text",
    "id": "dSBXRqGMmLVu"
   },
   "source": [
    "#Modules Importation and preparation"
   ]
  },
  {
   "cell_type": "code",
   "execution_count": null,
   "metadata": {
    "colab": {
     "base_uri": "https://localhost:8080/",
     "height": 241
    },
    "colab_type": "code",
    "executionInfo": {
     "elapsed": 13517,
     "status": "ok",
     "timestamp": 1600299355676,
     "user": {
      "displayName": "Hicham DAHMOU",
      "photoUrl": "https://lh3.googleusercontent.com/a-/AOh14Gjm8kQzgY5jvkxdwk_t5QfvV2mshFznHs3bho_6=s64",
      "userId": "01305248723403302361"
     },
     "user_tz": -60
    },
    "id": "buSqBXaSuzzQ",
    "outputId": "116d6790-f25c-4aa9-8e97-8f00d1333dab"
   },
   "outputs": [],
   "source": [
    "#specify the working directory and cd into it\n",
    "WORK_DIR = \"\"\n",
    "% cd \"\""
   ]
  },
  {
   "cell_type": "code",
   "execution_count": null,
   "metadata": {
    "colab": {},
    "colab_type": "code",
    "executionInfo": {
     "elapsed": 21407,
     "status": "ok",
     "timestamp": 1600299364597,
     "user": {
      "displayName": "Hicham DAHMOU",
      "photoUrl": "https://lh3.googleusercontent.com/a-/AOh14Gjm8kQzgY5jvkxdwk_t5QfvV2mshFznHs3bho_6=s64",
      "userId": "01305248723403302361"
     },
     "user_tz": -60
    },
    "id": "TdLCQ9Bt2dQr"
   },
   "outputs": [],
   "source": [
    "import Clusterer, Global_feature_exractors, Local_features_extractor, Norms, Image, PCA_reduction, Distances\n",
    "from Dataset_loader import load_dataset_all\n",
    "from testing import get_test_sample, accuracy\n",
    "import numpy as np\n",
    "import matplotlib.pyplot as plt\n",
    "import pickle, json, os\n",
    "import Norms, Local_features_extractor, Image, Autoencoder, Clusterer\n",
    "from google.colab.patches import cv2_imshow"
   ]
  },
  {
   "cell_type": "code",
   "execution_count": null,
   "metadata": {
    "colab": {},
    "colab_type": "code",
    "executionInfo": {
     "elapsed": 1370,
     "status": "ok",
     "timestamp": 1600299365970,
     "user": {
      "displayName": "Hicham DAHMOU",
      "photoUrl": "https://lh3.googleusercontent.com/a-/AOh14Gjm8kQzgY5jvkxdwk_t5QfvV2mshFznHs3bho_6=s64",
      "userId": "01305248723403302361"
     },
     "user_tz": -60
    },
    "id": "DibsoAMd09iw"
   },
   "outputs": [],
   "source": [
    "training_object = \"training_16Sep\""
   ]
  },
  {
   "cell_type": "code",
   "execution_count": null,
   "metadata": {
    "colab": {},
    "colab_type": "code",
    "executionInfo": {
     "elapsed": 1882,
     "status": "ok",
     "timestamp": 1600299366489,
     "user": {
      "displayName": "Hicham DAHMOU",
      "photoUrl": "https://lh3.googleusercontent.com/a-/AOh14Gjm8kQzgY5jvkxdwk_t5QfvV2mshFznHs3bho_6=s64",
      "userId": "01305248723403302361"
     },
     "user_tz": -60
    },
    "id": "hEJQU9UC2t2y"
   },
   "outputs": [],
   "source": [
    "with open(\"./config_train.json\") as config_file:\n",
    "  configuration = json.load(config_file)[\"Sift_Encoder_Vlad_Pca\"][training_object]"
   ]
  },
  {
   "cell_type": "code",
   "execution_count": null,
   "metadata": {
    "colab": {},
    "colab_type": "code",
    "executionInfo": {
     "elapsed": 1875,
     "status": "ok",
     "timestamp": 1600299366490,
     "user": {
      "displayName": "Hicham DAHMOU",
      "photoUrl": "https://lh3.googleusercontent.com/a-/AOh14Gjm8kQzgY5jvkxdwk_t5QfvV2mshFznHs3bho_6=s64",
      "userId": "01305248723403302361"
     },
     "user_tz": -60
    },
    "id": "KGDM4FVJnQss"
   },
   "outputs": [],
   "source": [
    "BASE_FOLDER = configuration[\"base_folder\"]\n",
    "if not os.path.exists(BASE_FOLDER):\n",
    "  os.mkdir(BASE_FOLDER)"
   ]
  },
  {
   "cell_type": "markdown",
   "metadata": {
    "colab_type": "text",
    "id": "N3dPV7mpq0OC"
   },
   "source": [
    "#Train Model"
   ]
  },
  {
   "cell_type": "code",
   "execution_count": null,
   "metadata": {
    "colab": {},
    "colab_type": "code",
    "executionInfo": {
     "elapsed": 1869,
     "status": "ok",
     "timestamp": 1600299366491,
     "user": {
      "displayName": "Hicham DAHMOU",
      "photoUrl": "https://lh3.googleusercontent.com/a-/AOh14Gjm8kQzgY5jvkxdwk_t5QfvV2mshFznHs3bho_6=s64",
      "userId": "01305248723403302361"
     },
     "user_tz": -60
    },
    "id": "BPKe6E3NuaFB"
   },
   "outputs": [],
   "source": [
    "from tensorflow.keras.layers import BatchNormalization\n",
    "from tensorflow.keras.layers import Conv2D\n",
    "from tensorflow.keras.layers import Conv2DTranspose\n",
    "from tensorflow.keras.layers import LeakyReLU\n",
    "from tensorflow.keras.layers import Activation\n",
    "from tensorflow.keras.layers import Flatten\n",
    "from tensorflow.keras.layers import Dense\n",
    "from tensorflow.keras.layers import Reshape\n",
    "from tensorflow.keras.layers import Input\n",
    "from tensorflow.keras.models import Model\n",
    "from tensorflow.keras import backend as K\n",
    "from tensorflow.keras.optimizers import Adam"
   ]
  },
  {
   "cell_type": "code",
   "execution_count": null,
   "metadata": {
    "colab": {},
    "colab_type": "code",
    "executionInfo": {
     "elapsed": 1859,
     "status": "ok",
     "timestamp": 1600299366492,
     "user": {
      "displayName": "Hicham DAHMOU",
      "photoUrl": "https://lh3.googleusercontent.com/a-/AOh14Gjm8kQzgY5jvkxdwk_t5QfvV2mshFznHs3bho_6=s64",
      "userId": "01305248723403302361"
     },
     "user_tz": -60
    },
    "id": "cLkiVQa975zH"
   },
   "outputs": [],
   "source": [
    "class Autoencoder_train:\n",
    "\tdef __init__(self, configuration):\n",
    "\t\tself.configuration = configuration\n",
    "\t\tself.shape_images = (configuration[\"shape_images\"]*2,configuration[\"shape_images\"]*2)\n",
    "\t\tself.BASE_FOLDER = configuration[\"base_folder\"]\n",
    "\n",
    "\tdef train_network(self):\n",
    "\t\tBASE_FOLDER = configuration[\"base_folder\"]\n",
    "\t\tmodel_path = self.BASE_FOLDER + self.configuration[\"model_path\"]\n",
    "\t\ttest_ration = self.configuration[\"test_ration\"]\n",
    "\t\tdata_path = self.BASE_FOLDER + self.configuration[\"data_patchs_path\"]\n",
    "\t\tEPOCHS = self.configuration[\"EPOCHS\"]\n",
    "\t\tBS = self.configuration[\"BS\"]\n",
    "\t\tpath_to_save_plot = self.BASE_FOLDER + self.configuration[\"path_to_save_training_plot\"]\n",
    "\n",
    "\t\ttrainX, testX = self.load_data_patchs(data_path, test_ration)\n",
    "\n",
    "\t# add a channel dimension to every image in the dataset, then scale\n",
    "\t# the pixel intensities to the range [0, 1]\n",
    "\t\ttrainX \t= np.expand_dims(trainX, axis=-1)\n",
    "\t\ttestX \t= np.expand_dims(testX, axis=-1)\n",
    "\t\ttrainX \t= trainX.astype(\"float32\") / 255.0\n",
    "\t\ttestX \t= testX.astype(\"float32\") / 255.0\n",
    "\n",
    "\t# construct the convolutional autoencoder\n",
    "\t\tprint(\"[INFO] building autoencoder...\")\n",
    "\t\t(encoder, decoder, autoencoder) = self.build(self.shape_images[0], self.shape_images[1], 1)\n",
    "\t\tautoencoder.compile(loss=\"mse\", optimizer=Adam(lr=1e-3))\n",
    "\n",
    "\t# train the convolutional autoencoder\n",
    "\t\tH = autoencoder.fit(trainX, trainX,\n",
    "\t\t\t\t\t\t\tvalidation_data=(testX, testX),\n",
    "\t\t\t\t\t\t\tepochs=EPOCHS,\n",
    "\t\t\t\t\t\t\tbatch_size=BS)\n",
    "\n",
    "\t\tself.plot_loss_accuracy(H, EPOCHS, path_to_save_plot)\n",
    "\t\tencoder = Model(inputs=autoencoder.input, outputs=autoencoder.get_layer(\"encoder\").output)\n",
    "\t\tself.save_model(encoder, model_path)\n",
    "\t\tself.test_autoencoder(autoencoder, testX)\n",
    "\t\n",
    "\tdef test_autoencoder(self, autoencoder, testX):\n",
    "\t\tprint(\"[INFO] making predictions...\")\n",
    "\t\tdecoded = autoencoder.predict(testX)\n",
    "\t\toutputs = None\n",
    "\t\tfor i in range(0, 20):\n",
    "\t\t\toriginal = (testX[i] * 255).astype(\"uint8\")\n",
    "\t\t\trecon = (decoded[i] * 255).astype(\"uint8\")\n",
    "\t\t\toutput = np.hstack([original, recon])\n",
    "\t\t\tif outputs is None:\n",
    "\t\t\t\toutputs = output\n",
    "\t\t\telse:\n",
    "\t\t\t\toutputs = np.vstack([outputs, output])\n",
    "\t\tcv2_imshow(outputs)\n",
    "\n",
    "\tdef load_data_patchs(self, PIK, test_ration):\n",
    "\t\twith open(PIK,'rb') as f:\n",
    "\t\t\tdata = np.array(pickle.load(f))\n",
    "\n",
    "\t\tsize_test = int(len(data)*test_ration)\n",
    "\t\tnp.random.shuffle(data)\n",
    "\t\treturn data[size_test:], data[:size_test]\n",
    "\n",
    "\n",
    "\tdef save_model(self, model, model_path):\n",
    "\t\tsave_format = \"h5\"\n",
    "\t\tprint(\"[INFO] saving encoder...\")\n",
    "\t\tmodel.save(model_path, save_format=save_format, include_optimizer=False)\n",
    "\n",
    "\n",
    "\tdef plot_loss_accuracy(self, H, EPOCHS, path_to_save):\n",
    "\t\tN = np.arange(0, EPOCHS)\n",
    "\t\tplt.style.use(\"ggplot\")\n",
    "\t\tplt.figure()\n",
    "\t\tplt.plot(N, H.history[\"loss\"], label=\"train_loss\")\n",
    "\t\tplt.plot(N, H.history[\"val_loss\"], label=\"val_loss\")\n",
    "\t\tplt.title(\"Training Loss and Accuracy\")\n",
    "\t\tplt.xlabel(\"Epoch #\")\n",
    "\t\tplt.ylabel(\"Loss/Accuracy\")\n",
    "\t\tplt.legend(loc=\"lower left\")\n",
    "\t\tplt.savefig(path_to_save)\n",
    "\n",
    "\n",
    "\t\n",
    "\tdef build(self, width, height, depth, filters=(32, 64)):\n",
    "\t\tlatentDim = self.configuration[\"latentDim\"]\n",
    "\t\tinputShape = (height, width, depth)\n",
    "\n",
    "\t\tinputs = Input(shape=inputShape)\n",
    "\t\tx = inputs\n",
    "\n",
    "\t\tfor f in filters:\n",
    "\t\t\tx = Conv2D(f, (3, 3), strides=2, padding=\"same\")(x)\n",
    "\t\t\tx = LeakyReLU(alpha=0.2)(x)\n",
    "\t\t\tx = BatchNormalization()(x)\n",
    "\n",
    "\t\tvolumeSize = K.int_shape(x)\n",
    "\t\tx = Flatten()(x)\n",
    "\t\tlatent = Dense(latentDim)(x)\n",
    "\t\tencoder = Model(inputs, latent, name=\"encoder\")\n",
    "\n",
    "\t\tprint(encoder.summary())\n",
    "\n",
    "\t\tlatentInputs = Input(shape=(latentDim,))\n",
    "\t\tx = Dense(np.prod(volumeSize[1:]))(latentInputs)\n",
    "\t\tx = Reshape((volumeSize[1], volumeSize[2], volumeSize[3]))(x)\n",
    "\n",
    "\t\tfor f in filters[::-1]:\n",
    "\t\t\tx = Conv2DTranspose(f, (3, 3), strides=2, padding=\"same\")(x)\n",
    "\t\t\tx = LeakyReLU(alpha=0.2)(x)\n",
    "\t\t\tx = BatchNormalization()(x)\n",
    "\n",
    "\t\tx = Conv2DTranspose(depth, (3, 3), padding=\"same\")(x)\n",
    "\t\toutputs = Activation(\"sigmoid\")(x)\n",
    "\t\tdecoder = Model(latentInputs, outputs, name=\"decoder\")\n",
    "\n",
    "\t\tautoencoder = Model(inputs, decoder(encoder(inputs)), name=\"autoencoder\")\n",
    "\t\treturn (encoder, decoder, autoencoder)"
   ]
  },
  {
   "cell_type": "code",
   "execution_count": null,
   "metadata": {
    "colab": {},
    "colab_type": "code",
    "executionInfo": {
     "elapsed": 1854,
     "status": "ok",
     "timestamp": 1600299366493,
     "user": {
      "displayName": "Hicham DAHMOU",
      "photoUrl": "https://lh3.googleusercontent.com/a-/AOh14Gjm8kQzgY5jvkxdwk_t5QfvV2mshFznHs3bho_6=s64",
      "userId": "01305248723403302361"
     },
     "user_tz": -60
    },
    "id": "29t55ZW5zfPJ"
   },
   "outputs": [],
   "source": [
    "def generate_patchs(PatchsPickle, images, height):\n",
    "\tlocal_features_extractor = Local_features_extractor.Local_feature_exractor(Norms.Norm.No_norm)\n",
    "\timages_pre = [Image.Image(path_image, local_features_extractor) for path_image in images]\n",
    "\timages_patch = list()\n",
    "\n",
    "\tfor image in images_pre:\n",
    "\t\tfor key_point in image.key_points:\n",
    "\t\t\ty,x = int(key_point.pt[0]),int(key_point.pt[1])\n",
    "\t\t\txm, ym = image.image.shape\n",
    "\t\t\tif (x-height < 0) or (x+height > xm) or (y-height < 0) or (y+height > ym):\n",
    "\t\t\t\tcontinue\n",
    "\t\t\tcropped = image.image[x-height:x+height,y-height:y+height]\n",
    "\t\t\timages_patch.append(cropped)\n",
    "\n",
    "\twith open(PatchsPickle, \"wb\") as f:\n",
    "\t\tpickle.dump(images_patch, f)"
   ]
  },
  {
   "cell_type": "code",
   "execution_count": null,
   "metadata": {
    "colab": {},
    "colab_type": "code",
    "executionInfo": {
     "elapsed": 852,
     "status": "ok",
     "timestamp": 1600299835321,
     "user": {
      "displayName": "Hicham DAHMOU",
      "photoUrl": "https://lh3.googleusercontent.com/a-/AOh14Gjm8kQzgY5jvkxdwk_t5QfvV2mshFznHs3bho_6=s64",
      "userId": "01305248723403302361"
     },
     "user_tz": -60
    },
    "id": "QITjJYdQQSjo"
   },
   "outputs": [],
   "source": [
    "def choose_cluster_centers(images, model_path, max_no_improvement, shape_images, max_key_points):\n",
    "\tautoencoder = Autoencoder.Encoder_NN((shape_images, shape_images), max_key_points)\n",
    "\tautoencoder.set_model(model_path=model_path)\n",
    "\n",
    "\tlocal_features_extractor = Local_features_extractor.Local_feature_exractor(Norms.Norm.No_norm, local_feature_extractor=autoencoder)\n",
    "\n",
    "\timages_pre = [Image.Image(path_image, local_features_extractor) for path_image in images]\n",
    "\n",
    "\tClusterer.Clusterer.elbow_method_kmeans(images_pre, max_no_improvement=max_no_improvement)"
   ]
  },
  {
   "cell_type": "code",
   "execution_count": null,
   "metadata": {
    "colab": {},
    "colab_type": "code",
    "executionInfo": {
     "elapsed": 1847,
     "status": "ok",
     "timestamp": 1600299366497,
     "user": {
      "displayName": "Hicham DAHMOU",
      "photoUrl": "https://lh3.googleusercontent.com/a-/AOh14Gjm8kQzgY5jvkxdwk_t5QfvV2mshFznHs3bho_6=s64",
      "userId": "01305248723403302361"
     },
     "user_tz": -60
    },
    "id": "iX9-w3ROzigg"
   },
   "outputs": [],
   "source": [
    "def new_cluster_centers(images, model_path, path_to_save, nb_clusters, max_no_improvement, shape_images, max_key_points):\n",
    "\tautoencoder = Autoencoder.Encoder_NN((shape_images, shape_images), max_key_points)\n",
    "\tautoencoder.set_model(model_path=model_path)\n",
    "\n",
    "\tlocal_features_extractor = Local_features_extractor.Local_feature_exractor(Norms.Norm.No_norm, local_feature_extractor=autoencoder)\n",
    "\n",
    "\timages_pre = [Image.Image(path_image, local_features_extractor) for path_image in images]\n",
    "\n",
    "\tClusterer.Clusterer.fit_new_trainig(images_pre, \n",
    "                                        path_to_save, \n",
    "                                        nb_clusters=nb_clusters, \n",
    "                                        max_no_improvement=max_no_improvement,\n",
    "                                        verbose=0)"
   ]
  },
  {
   "cell_type": "code",
   "execution_count": null,
   "metadata": {
    "colab": {},
    "colab_type": "code",
    "executionInfo": {
     "elapsed": 1842,
     "status": "ok",
     "timestamp": 1600299366498,
     "user": {
      "displayName": "Hicham DAHMOU",
      "photoUrl": "https://lh3.googleusercontent.com/a-/AOh14Gjm8kQzgY5jvkxdwk_t5QfvV2mshFznHs3bho_6=s64",
      "userId": "01305248723403302361"
     },
     "user_tz": -60
    },
    "id": "XXvrXUeH0Mq4"
   },
   "outputs": [],
   "source": [
    "def new_pca_NN_vlad(images, path_to_save, cluster_centers_path, encoder_model_path, n_components, shape_images, max_key_points):\n",
    "\tautoencoder = Autoencoder.Encoder_NN((shape_images, shape_images), max_key_points)\n",
    "\tautoencoder.set_model(model_path=encoder_model_path)\n",
    "\n",
    "\tclusters_centers = Clusterer.Clusterer.fit_ancient_data(cluster_centers_path)\n",
    "\tvlad = Global_feature_exractors.VLAD(clusters_centers)\n",
    "\n",
    "\tlocal_features_extractor = Local_features_extractor.Local_feature_exractor(Norms.Norm.No_norm, local_feature_extractor=autoencoder)\n",
    "\n",
    "\timages_pre = [Image.Image(path_image, local_features_extractor, global_feature_extractor=vlad) for path_image in images]\n",
    "\tvlad_vectors = [image.global_descriptor for image in images_pre]\n",
    "\n",
    "\tPCA_reduction.PCA_reduction.create_new_pca_model(vlad_vectors, path_to_save=path_to_save, n_components=n_components)"
   ]
  },
  {
   "cell_type": "code",
   "execution_count": null,
   "metadata": {
    "colab": {},
    "colab_type": "code",
    "executionInfo": {
     "elapsed": 15555,
     "status": "ok",
     "timestamp": 1600299390590,
     "user": {
      "displayName": "Hicham DAHMOU",
      "photoUrl": "https://lh3.googleusercontent.com/a-/AOh14Gjm8kQzgY5jvkxdwk_t5QfvV2mshFznHs3bho_6=s64",
      "userId": "01305248723403302361"
     },
     "user_tz": -60
    },
    "id": "zTvYCSUESs0f"
   },
   "outputs": [],
   "source": [
    "writers, images = load_dataset_all(WORK_DIR)\n",
    "nb_images_treat = configuration[\"nb_images_treat\"]"
   ]
  },
  {
   "cell_type": "code",
   "execution_count": null,
   "metadata": {
    "colab": {},
    "colab_type": "code",
    "executionInfo": {
     "elapsed": 91401,
     "status": "ok",
     "timestamp": 1600299467692,
     "user": {
      "displayName": "Hicham DAHMOU",
      "photoUrl": "https://lh3.googleusercontent.com/a-/AOh14Gjm8kQzgY5jvkxdwk_t5QfvV2mshFznHs3bho_6=s64",
      "userId": "01305248723403302361"
     },
     "user_tz": -60
    },
    "id": "EiYWmtWq0SuJ"
   },
   "outputs": [],
   "source": [
    "generate_patchs(BASE_FOLDER+configuration[\"data_patchs_path\"], \n",
    "                images[:nb_images_treat],\n",
    "                configuration[\"shape_images\"])"
   ]
  },
  {
   "cell_type": "code",
   "execution_count": null,
   "metadata": {
    "colab": {
     "base_uri": "https://localhost:8080/",
     "height": 1000
    },
    "colab_type": "code",
    "executionInfo": {
     "elapsed": 370177,
     "status": "ok",
     "timestamp": 1600299750755,
     "user": {
      "displayName": "Hicham DAHMOU",
      "photoUrl": "https://lh3.googleusercontent.com/a-/AOh14Gjm8kQzgY5jvkxdwk_t5QfvV2mshFznHs3bho_6=s64",
      "userId": "01305248723403302361"
     },
     "user_tz": -60
    },
    "id": "0fsHU7hz0U7V",
    "outputId": "8f3e8e8b-ccd4-4c1a-9305-ee56b28c2dfc"
   },
   "outputs": [],
   "source": [
    "autoencoder = Autoencoder_train(configuration)\n",
    "autoencoder.train_network()"
   ]
  },
  {
   "cell_type": "code",
   "execution_count": null,
   "metadata": {
    "colab": {
     "base_uri": "https://localhost:8080/",
     "height": 1000
    },
    "colab_type": "code",
    "executionInfo": {
     "elapsed": 305043,
     "status": "ok",
     "timestamp": 1600300184744,
     "user": {
      "displayName": "Hicham DAHMOU",
      "photoUrl": "https://lh3.googleusercontent.com/a-/AOh14Gjm8kQzgY5jvkxdwk_t5QfvV2mshFznHs3bho_6=s64",
      "userId": "01305248723403302361"
     },
     "user_tz": -60
    },
    "id": "kY-BVrZJQnSI",
    "outputId": "b55cc141-0227-4d3c-c362-db39570dd9df"
   },
   "outputs": [],
   "source": [
    "choose_cluster_centers(images=images[:nb_images_treat],\n",
    "                        model_path=BASE_FOLDER+configuration[\"model_path\"],\n",
    "                        max_no_improvement=configuration[\"max_no_improvement\"],\n",
    "                        shape_images=configuration[\"shape_images\"]*2,\n",
    "                        max_key_points=configuration[\"max_key_points\"])"
   ]
  },
  {
   "cell_type": "code",
   "execution_count": null,
   "metadata": {
    "colab": {},
    "colab_type": "code",
    "executionInfo": {
     "elapsed": 907,
     "status": "ok",
     "timestamp": 1600300260821,
     "user": {
      "displayName": "Hicham DAHMOU",
      "photoUrl": "https://lh3.googleusercontent.com/a-/AOh14Gjm8kQzgY5jvkxdwk_t5QfvV2mshFznHs3bho_6=s64",
      "userId": "01305248723403302361"
     },
     "user_tz": -60
    },
    "id": "RaQw61kvQr85"
   },
   "outputs": [],
   "source": [
    "nb_clusters_kmeans = 50"
   ]
  },
  {
   "cell_type": "code",
   "execution_count": null,
   "metadata": {
    "colab": {
     "base_uri": "https://localhost:8080/",
     "height": 357
    },
    "colab_type": "code",
    "executionInfo": {
     "elapsed": 279865,
     "status": "ok",
     "timestamp": 1600300540558,
     "user": {
      "displayName": "Hicham DAHMOU",
      "photoUrl": "https://lh3.googleusercontent.com/a-/AOh14Gjm8kQzgY5jvkxdwk_t5QfvV2mshFznHs3bho_6=s64",
      "userId": "01305248723403302361"
     },
     "user_tz": -60
    },
    "id": "esTQdWge0YDB",
    "outputId": "f5f6c94e-5e13-4ce0-ec5e-99715a888a2a"
   },
   "outputs": [],
   "source": [
    "new_cluster_centers(images[:nb_images_treat],\n",
    "                    model_path=BASE_FOLDER+configuration[\"model_path\"],\n",
    "                    path_to_save=BASE_FOLDER+configuration[\"path_cluster_centers\"], \n",
    "                    nb_clusters=nb_clusters_kmeans, \n",
    "                    max_no_improvement=configuration[\"max_no_improvement\"],\n",
    "                    shape_images=configuration[\"shape_images\"]*2,\n",
    "                    max_key_points=configuration[\"max_key_points\"])"
   ]
  },
  {
   "cell_type": "code",
   "execution_count": null,
   "metadata": {
    "colab": {
     "base_uri": "https://localhost:8080/",
     "height": 639
    },
    "colab_type": "code",
    "executionInfo": {
     "elapsed": 276523,
     "status": "ok",
     "timestamp": 1600301115210,
     "user": {
      "displayName": "Hicham DAHMOU",
      "photoUrl": "https://lh3.googleusercontent.com/a-/AOh14Gjm8kQzgY5jvkxdwk_t5QfvV2mshFznHs3bho_6=s64",
      "userId": "01305248723403302361"
     },
     "user_tz": -60
    },
    "id": "5QSBzwUJ0ajN",
    "outputId": "1a48571d-46aa-4ace-ed23-a05eec95bb1a"
   },
   "outputs": [],
   "source": [
    "new_pca_NN_vlad(images=images[:nb_images_treat], \n",
    "                path_to_save=BASE_FOLDER+configuration[\"path_pca_model\"], \n",
    "                cluster_centers_path=BASE_FOLDER+configuration[\"path_cluster_centers\"], \n",
    "                encoder_model_path=BASE_FOLDER+configuration[\"model_path\"], \n",
    "                n_components=configuration[\"pca_number_components\"],\n",
    "                shape_images=configuration[\"shape_images\"]*2,\n",
    "                max_key_points=configuration[\"max_key_points\"])"
   ]
  },
  {
   "cell_type": "markdown",
   "metadata": {
    "colab_type": "text",
    "id": "HQI10DDt20cK"
   },
   "source": [
    "#Test Model"
   ]
  },
  {
   "cell_type": "code",
   "execution_count": null,
   "metadata": {
    "colab": {
     "base_uri": "https://localhost:8080/",
     "height": 34
    },
    "colab_type": "code",
    "executionInfo": {
     "elapsed": 821036,
     "status": "ok",
     "timestamp": 1599711691614,
     "user": {
      "displayName": "Hicham DAHMOU",
      "photoUrl": "https://lh3.googleusercontent.com/a-/AOh14Gjm8kQzgY5jvkxdwk_t5QfvV2mshFznHs3bho_6=s64",
      "userId": "01305248723403302361"
     },
     "user_tz": -60
    },
    "id": "VwtVTjX291sy",
    "outputId": "84c77fa7-dc5c-43f2-f0ba-c322bdb1519b"
   },
   "outputs": [],
   "source": [
    "import importlib\n",
    "importlib.reload(Autoencoder)"
   ]
  },
  {
   "cell_type": "code",
   "execution_count": null,
   "metadata": {
    "colab": {},
    "colab_type": "code",
    "executionInfo": {
     "elapsed": 784,
     "status": "ok",
     "timestamp": 1600301390649,
     "user": {
      "displayName": "Hicham DAHMOU",
      "photoUrl": "https://lh3.googleusercontent.com/a-/AOh14Gjm8kQzgY5jvkxdwk_t5QfvV2mshFznHs3bho_6=s64",
      "userId": "01305248723403302361"
     },
     "user_tz": -60
    },
    "id": "Zj7KdQnB3jZN"
   },
   "outputs": [],
   "source": [
    "def test_sift_NN_vlad(images, writers, pca_path, cluster_centers_path, model_path, max_key_points, accuracy_calculator, shape_images):\n",
    "  \n",
    "  autoencoder = Autoencoder.Encoder_NN((shape_images, shape_images), max_key_points)\n",
    "  autoencoder.set_model(model_path=model_path)\n",
    "  local_features_extractor = Local_features_extractor.Local_feature_exractor(Norms.Norm.No_norm, local_feature_extractor=autoencoder)\n",
    "\n",
    "  clusters_centers = Clusterer.Clusterer.fit_ancient_data(cluster_centers_path)\n",
    "  pca_instance = PCA_reduction.PCA_reduction(pca_path)\n",
    "  vlad = Global_feature_exractors.VLAD(clusters_centers, pca_instance=pca_instance)\n",
    "\n",
    "  images_pre = [Image.Image(path_image, local_features_extractor, global_feature_extractor=vlad) for path_image in images]\n",
    "\n",
    "  cosine_distance = Distances.Distance.cosine_distance\n",
    "  accuracy_value = accuracy_calculator(images_pre, writers, vlad, cosine_distance)\n",
    "\n",
    "  return accuracy_value"
   ]
  },
  {
   "cell_type": "code",
   "execution_count": null,
   "metadata": {
    "colab": {},
    "colab_type": "code",
    "executionInfo": {
     "elapsed": 856,
     "status": "ok",
     "timestamp": 1600301395305,
     "user": {
      "displayName": "Hicham DAHMOU",
      "photoUrl": "https://lh3.googleusercontent.com/a-/AOh14Gjm8kQzgY5jvkxdwk_t5QfvV2mshFznHs3bho_6=s64",
      "userId": "01305248723403302361"
     },
     "user_tz": -60
    },
    "id": "mr0dwz5l3UMU"
   },
   "outputs": [],
   "source": [
    "writers, images = load_dataset_all(WORK_DIR)\n",
    "X_test, y_test = get_test_sample(images, writers, configuration[\"test_sample_size\"])"
   ]
  },
  {
   "cell_type": "code",
   "execution_count": null,
   "metadata": {
    "colab": {
     "base_uri": "https://localhost:8080/",
     "height": 731
    },
    "colab_type": "code",
    "executionInfo": {
     "elapsed": 303197,
     "status": "ok",
     "timestamp": 1600301699862,
     "user": {
      "displayName": "Hicham DAHMOU",
      "photoUrl": "https://lh3.googleusercontent.com/a-/AOh14Gjm8kQzgY5jvkxdwk_t5QfvV2mshFznHs3bho_6=s64",
      "userId": "01305248723403302361"
     },
     "user_tz": -60
    },
    "id": "ul_KM-UP3VJ8",
    "outputId": "839572f7-f278-47c8-a833-823dcc1969ec"
   },
   "outputs": [],
   "source": [
    "accuracy_value = test_sift_NN_vlad(images=X_test,\n",
    "                                    writers=y_test,\n",
    "                                    pca_path=BASE_FOLDER+configuration[\"path_pca_model\"],\n",
    "                                    cluster_centers_path=BASE_FOLDER+configuration[\"path_cluster_centers\"],\n",
    "                                    model_path=BASE_FOLDER+configuration[\"model_path\"],\n",
    "                                    max_key_points=configuration[\"max_key_points\"],\n",
    "                                    accuracy_calculator=accuracy,\n",
    "                                    shape_images=configuration[\"shape_images\"]*2)\n",
    "\n",
    "print()\n",
    "print(\"Accuracy value for\", training_object,\" :\",accuracy_value*100,\"%\")"
   ]
  }
 ],
 "metadata": {
  "accelerator": "GPU",
  "colab": {
   "authorship_tag": "ABX9TyM2ewP5PO90+lXO7FvyI/bS",
   "collapsed_sections": [],
   "name": "Training_Sift_Encoder_Vlad_Pca.ipynb",
   "provenance": [],
   "toc_visible": true
  },
  "kernelspec": {
   "display_name": "Python 3",
   "language": "python",
   "name": "python3"
  }
 },
 "nbformat": 4,
 "nbformat_minor": 1
}
