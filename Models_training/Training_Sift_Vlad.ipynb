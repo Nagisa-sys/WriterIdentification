{
 "cells": [
  {
   "cell_type": "markdown",
   "metadata": {
    "colab_type": "text",
    "id": "bXwLceE5H5N8"
   },
   "source": [
    "#Modules Importation and preparation"
   ]
  },
  {
   "cell_type": "code",
   "execution_count": null,
   "metadata": {
    "colab": {
     "base_uri": "https://localhost:8080/",
     "height": 105
    },
    "colab_type": "code",
    "executionInfo": {
     "elapsed": 48130,
     "status": "ok",
     "timestamp": 1600294737402,
     "user": {
      "displayName": "Hicham DAHMOU",
      "photoUrl": "https://lh3.googleusercontent.com/a-/AOh14Gjm8kQzgY5jvkxdwk_t5QfvV2mshFznHs3bho_6=s64",
      "userId": "01305248723403302361"
     },
     "user_tz": -60
    },
    "id": "O4ZLD2fcCTdE",
    "outputId": "ddb37f8b-2944-41cf-bb22-9716ba35ec61"
   },
   "outputs": [],
   "source": [
    "#specify the working directory and cd into it\n",
    "WORK_DIR = \"\"\n",
    "% cd \"\""
   ]
  },
  {
   "cell_type": "code",
   "execution_count": null,
   "metadata": {
    "colab": {},
    "colab_type": "code",
    "executionInfo": {
     "elapsed": 642,
     "status": "ok",
     "timestamp": 1600301356919,
     "user": {
      "displayName": "Hicham DAHMOU",
      "photoUrl": "https://lh3.googleusercontent.com/a-/AOh14Gjm8kQzgY5jvkxdwk_t5QfvV2mshFznHs3bho_6=s64",
      "userId": "01305248723403302361"
     },
     "user_tz": -60
    },
    "id": "rhnEg7l3CfKT"
   },
   "outputs": [],
   "source": [
    "import Clusterer, Global_feature_exractors, Local_features_extractor, Norms, Image, PCA_reduction, Distances\n",
    "from Dataset_loader import load_dataset_all, load_dataset_IAM\n",
    "from testing import get_test_sample, accuracy_optimised\n",
    "import json, os\n",
    "from sklearn.neighbors import BallTree\n",
    "import numpy as np"
   ]
  },
  {
   "cell_type": "markdown",
   "metadata": {
    "colab_type": "text",
    "id": "MsfxHSkLIENG"
   },
   "source": [
    "Precise the key of the entry in config_train.json file"
   ]
  },
  {
   "cell_type": "code",
   "execution_count": null,
   "metadata": {
    "colab": {},
    "colab_type": "code",
    "executionInfo": {
     "elapsed": 48108,
     "status": "ok",
     "timestamp": 1600294737405,
     "user": {
      "displayName": "Hicham DAHMOU",
      "photoUrl": "https://lh3.googleusercontent.com/a-/AOh14Gjm8kQzgY5jvkxdwk_t5QfvV2mshFznHs3bho_6=s64",
      "userId": "01305248723403302361"
     },
     "user_tz": -60
    },
    "id": "OVDnWKnACa6j"
   },
   "outputs": [],
   "source": [
    "training_object = \"training_16Sep\""
   ]
  },
  {
   "cell_type": "code",
   "execution_count": null,
   "metadata": {
    "colab": {},
    "colab_type": "code",
    "executionInfo": {
     "elapsed": 48098,
     "status": "ok",
     "timestamp": 1600294737406,
     "user": {
      "displayName": "Hicham DAHMOU",
      "photoUrl": "https://lh3.googleusercontent.com/a-/AOh14Gjm8kQzgY5jvkxdwk_t5QfvV2mshFznHs3bho_6=s64",
      "userId": "01305248723403302361"
     },
     "user_tz": -60
    },
    "id": "pXdfrEKCClgT"
   },
   "outputs": [],
   "source": [
    "with open(\"./config_train.json\") as config_file:\n",
    "  configuration = json.load(config_file)[\"Sift_Vlad_Pca\"][training_object]"
   ]
  },
  {
   "cell_type": "code",
   "execution_count": null,
   "metadata": {
    "colab": {},
    "colab_type": "code",
    "executionInfo": {
     "elapsed": 48086,
     "status": "ok",
     "timestamp": 1600294737407,
     "user": {
      "displayName": "Hicham DAHMOU",
      "photoUrl": "https://lh3.googleusercontent.com/a-/AOh14Gjm8kQzgY5jvkxdwk_t5QfvV2mshFznHs3bho_6=s64",
      "userId": "01305248723403302361"
     },
     "user_tz": -60
    },
    "id": "k_aQdSCwKtLX"
   },
   "outputs": [],
   "source": [
    "BASE_FOLDER = configuration[\"base_folder\"]\n",
    "if not os.path.exists(BASE_FOLDER):\n",
    "  os.mkdir(BASE_FOLDER)"
   ]
  },
  {
   "cell_type": "markdown",
   "metadata": {
    "colab_type": "text",
    "id": "NU8j6FpeTifM"
   },
   "source": [
    "#Train Model"
   ]
  },
  {
   "cell_type": "code",
   "execution_count": null,
   "metadata": {
    "colab": {},
    "colab_type": "code",
    "executionInfo": {
     "elapsed": 48071,
     "status": "ok",
     "timestamp": 1600294737407,
     "user": {
      "displayName": "Hicham DAHMOU",
      "photoUrl": "https://lh3.googleusercontent.com/a-/AOh14Gjm8kQzgY5jvkxdwk_t5QfvV2mshFznHs3bho_6=s64",
      "userId": "01305248723403302361"
     },
     "user_tz": -60
    },
    "id": "qWX-U427FLSP"
   },
   "outputs": [],
   "source": [
    "def new_cluster_centers(images, path_to_save, nb_clusters, max_no_improvement):\n",
    "\thellinger_normalization = Norms.Norm.hellinger_normalization\n",
    "\tlocal_features_extractor = Local_features_extractor.Local_feature_exractor(hellinger_normalization)\n",
    "\n",
    "\timages_pre = [Image.Image(path_image, local_features_extractor, verbose=False) for path_image in images]\n",
    "\tprint(\"All images prepared!\")\n",
    " \n",
    "\tClusterer.Clusterer.fit_new_trainig(images_pre, \n",
    "                                        path_to_save, \n",
    "                                        nb_clusters=nb_clusters, \n",
    "                                        max_no_improvement=max_no_improvement,\n",
    "                                        verbose=0)"
   ]
  },
  {
   "cell_type": "code",
   "execution_count": null,
   "metadata": {
    "colab": {},
    "colab_type": "code",
    "executionInfo": {
     "elapsed": 48058,
     "status": "ok",
     "timestamp": 1600294737408,
     "user": {
      "displayName": "Hicham DAHMOU",
      "photoUrl": "https://lh3.googleusercontent.com/a-/AOh14Gjm8kQzgY5jvkxdwk_t5QfvV2mshFznHs3bho_6=s64",
      "userId": "01305248723403302361"
     },
     "user_tz": -60
    },
    "id": "xN4kR1WNloss"
   },
   "outputs": [],
   "source": [
    "def choose_cluster_centers(images, max_no_improvement):\n",
    "  hellinger_normalization = Norms.Norm.hellinger_normalization\n",
    "  local_features_extractor = Local_features_extractor.Local_feature_exractor(hellinger_normalization)\n",
    "\n",
    "  images_pre = [Image.Image(path_image, local_features_extractor, verbose=False) for path_image in images]\n",
    "  print(\"All images prepared!\")\n",
    "\n",
    "  Clusterer.Clusterer.elbow_method_kmeans(images_pre, max_no_improvement=max_no_improvement)"
   ]
  },
  {
   "cell_type": "code",
   "execution_count": null,
   "metadata": {
    "colab": {},
    "colab_type": "code",
    "executionInfo": {
     "elapsed": 48047,
     "status": "ok",
     "timestamp": 1600294737409,
     "user": {
      "displayName": "Hicham DAHMOU",
      "photoUrl": "https://lh3.googleusercontent.com/a-/AOh14Gjm8kQzgY5jvkxdwk_t5QfvV2mshFznHs3bho_6=s64",
      "userId": "01305248723403302361"
     },
     "user_tz": -60
    },
    "id": "E_der7fTCi7b"
   },
   "outputs": [],
   "source": [
    "def new_pca_vlad(images, path_to_save_pca, cluster_centers_path, n_components_pca):\n",
    "\tclusters_centers = Clusterer.Clusterer.fit_ancient_data(cluster_centers_path)\n",
    "\tvlad = Global_feature_exractors.VLAD(clusters_centers)\n",
    "\n",
    "\thellinger_normalization = Norms.Norm.hellinger_normalization\n",
    "\tlocal_features_extractor = Local_features_extractor.Local_feature_exractor(hellinger_normalization)\n",
    "\n",
    "\timages_pre = [Image.Image(path_image, local_features_extractor, global_feature_extractor=vlad, verbose=False) for path_image in images]\n",
    "\tvlad_vectors = [image.global_descriptor for image in images_pre]\n",
    "\n",
    "\tPCA_reduction.PCA_reduction.create_new_pca_model(vlad_vectors, \n",
    "\t                                                 path_to_save=path_to_save_pca, \n",
    "\t\t\t\t\t\t\t\t\t\t\t\t\t\t\t\t\t\t\t\t\t\t\t\t\t n_components=n_components_pca)"
   ]
  },
  {
   "cell_type": "code",
   "execution_count": null,
   "metadata": {
    "colab": {},
    "colab_type": "code",
    "executionInfo": {
     "elapsed": 48035,
     "status": "ok",
     "timestamp": 1600294737410,
     "user": {
      "displayName": "Hicham DAHMOU",
      "photoUrl": "https://lh3.googleusercontent.com/a-/AOh14Gjm8kQzgY5jvkxdwk_t5QfvV2mshFznHs3bho_6=s64",
      "userId": "01305248723403302361"
     },
     "user_tz": -60
    },
    "id": "L_37IT0HCm9z"
   },
   "outputs": [],
   "source": [
    "_, images = load_dataset_all(WORK_DIR)\n",
    "nb_images_treat = configuration[\"nb_images_treat\"]"
   ]
  },
  {
   "cell_type": "code",
   "execution_count": null,
   "metadata": {
    "colab": {
     "base_uri": "https://localhost:8080/",
     "height": 951
    },
    "colab_type": "code",
    "executionInfo": {
     "elapsed": 365227,
     "status": "ok",
     "timestamp": 1600295054660,
     "user": {
      "displayName": "Hicham DAHMOU",
      "photoUrl": "https://lh3.googleusercontent.com/a-/AOh14Gjm8kQzgY5jvkxdwk_t5QfvV2mshFznHs3bho_6=s64",
      "userId": "01305248723403302361"
     },
     "user_tz": -60
    },
    "id": "jCGorkTMmAeZ",
    "outputId": "cd423bea-1392-433d-bb38-c5817843e5bd"
   },
   "outputs": [],
   "source": [
    "choose_cluster_centers(images=images[:nb_images_treat], max_no_improvement=configuration[\"max_no_improvement\"])"
   ]
  },
  {
   "cell_type": "code",
   "execution_count": null,
   "metadata": {
    "colab": {},
    "colab_type": "code",
    "executionInfo": {
     "elapsed": 365205,
     "status": "ok",
     "timestamp": 1600295054662,
     "user": {
      "displayName": "Hicham DAHMOU",
      "photoUrl": "https://lh3.googleusercontent.com/a-/AOh14Gjm8kQzgY5jvkxdwk_t5QfvV2mshFznHs3bho_6=s64",
      "userId": "01305248723403302361"
     },
     "user_tz": -60
    },
    "id": "fGYGVmNCmFJw"
   },
   "outputs": [],
   "source": [
    "nb_clusters_kmeans = 50"
   ]
  },
  {
   "cell_type": "code",
   "execution_count": null,
   "metadata": {
    "colab": {
     "base_uri": "https://localhost:8080/",
     "height": 34
    },
    "colab_type": "code",
    "executionInfo": {
     "elapsed": 456972,
     "status": "ok",
     "timestamp": 1600295146444,
     "user": {
      "displayName": "Hicham DAHMOU",
      "photoUrl": "https://lh3.googleusercontent.com/a-/AOh14Gjm8kQzgY5jvkxdwk_t5QfvV2mshFznHs3bho_6=s64",
      "userId": "01305248723403302361"
     },
     "user_tz": -60
    },
    "id": "LgScLfgHFQ9W",
    "outputId": "bb01c7e0-b222-4ff1-8fb3-f895e3ed4a1c"
   },
   "outputs": [],
   "source": [
    "new_cluster_centers(images=images[:nb_images_treat],\n",
    "                    path_to_save=BASE_FOLDER+configuration[\"path_cluster_centers\"], \n",
    "                    nb_clusters=nb_clusters_kmeans,\n",
    "                    max_no_improvement=configuration[\"max_no_improvement\"])"
   ]
  },
  {
   "cell_type": "code",
   "execution_count": null,
   "metadata": {
    "colab": {
     "base_uri": "https://localhost:8080/",
     "height": 34
    },
    "colab_type": "code",
    "executionInfo": {
     "elapsed": 456948,
     "status": "ok",
     "timestamp": 1600295146446,
     "user": {
      "displayName": "Hicham DAHMOU",
      "photoUrl": "https://lh3.googleusercontent.com/a-/AOh14Gjm8kQzgY5jvkxdwk_t5QfvV2mshFznHs3bho_6=s64",
      "userId": "01305248723403302361"
     },
     "user_tz": -60
    },
    "id": "0QJ9pvLuZ4fM",
    "outputId": "9b35ccf9-545b-43c2-9efd-37dc744094f8"
   },
   "outputs": [],
   "source": [
    "nb_images_treat"
   ]
  },
  {
   "cell_type": "code",
   "execution_count": null,
   "metadata": {
    "colab": {
     "base_uri": "https://localhost:8080/",
     "height": 405
    },
    "colab_type": "code",
    "executionInfo": {
     "elapsed": 541992,
     "status": "ok",
     "timestamp": 1600295231515,
     "user": {
      "displayName": "Hicham DAHMOU",
      "photoUrl": "https://lh3.googleusercontent.com/a-/AOh14Gjm8kQzgY5jvkxdwk_t5QfvV2mshFznHs3bho_6=s64",
      "userId": "01305248723403302361"
     },
     "user_tz": -60
    },
    "id": "k8R6F9n7CtuU",
    "outputId": "4ffc54b8-7801-4e8a-9710-0e4772f5aa89"
   },
   "outputs": [],
   "source": [
    "new_pca_vlad(images=images[:nb_images_treat],\n",
    "              path_to_save_pca=BASE_FOLDER+configuration[\"path_pca_model\"], \n",
    "              cluster_centers_path=BASE_FOLDER+configuration[\"path_cluster_centers\"], \n",
    "              n_components_pca=configuration[\"pca_number_components\"])"
   ]
  },
  {
   "cell_type": "markdown",
   "metadata": {
    "colab_type": "text",
    "id": "9QZ2D331Tl4_"
   },
   "source": [
    "#Test Model"
   ]
  },
  {
   "cell_type": "code",
   "execution_count": null,
   "metadata": {
    "colab": {
     "base_uri": "https://localhost:8080/",
     "height": 34
    },
    "colab_type": "code",
    "executionInfo": {
     "elapsed": 527,
     "status": "ok",
     "timestamp": 1600301285602,
     "user": {
      "displayName": "Hicham DAHMOU",
      "photoUrl": "https://lh3.googleusercontent.com/a-/AOh14Gjm8kQzgY5jvkxdwk_t5QfvV2mshFznHs3bho_6=s64",
      "userId": "01305248723403302361"
     },
     "user_tz": -60
    },
    "id": "BXj_hOM8FCUg",
    "outputId": "59b4a4a2-c9d8-4758-a894-444c4a98ffdf"
   },
   "outputs": [],
   "source": [
    "#import PCA_reduction\n",
    "import importlib\n",
    "importlib.reload(Image)"
   ]
  },
  {
   "cell_type": "code",
   "execution_count": null,
   "metadata": {
    "colab": {},
    "colab_type": "code",
    "executionInfo": {
     "elapsed": 610,
     "status": "ok",
     "timestamp": 1600301349132,
     "user": {
      "displayName": "Hicham DAHMOU",
      "photoUrl": "https://lh3.googleusercontent.com/a-/AOh14Gjm8kQzgY5jvkxdwk_t5QfvV2mshFznHs3bho_6=s64",
      "userId": "01305248723403302361"
     },
     "user_tz": -60
    },
    "id": "r5ix1jzpTCn-"
   },
   "outputs": [],
   "source": [
    "def test_sift_descr_vlad(images, writers, cluster_centers_path, accuracy_calculator, pca_path=None):\n",
    "  \n",
    "  hellinger_normalization = Norms.Norm.hellinger_normalization\n",
    "  local_features_extractor = Local_features_extractor.Local_feature_exractor(hellinger_normalization)\n",
    "\n",
    "  clusters_centers = Clusterer.Clusterer.fit_ancient_data(cluster_centers_path)\n",
    "  if pca_path is not None: pca_instance = PCA_reduction.PCA_reduction(pca_path)\n",
    "  else: pca_instance = None\n",
    "  vlad = Global_feature_exractors.VLAD(clusters_centers, pca_instance=pca_instance)\n",
    "\n",
    "  images_pre = [Image.Image(path_image, local_features_extractor, global_feature_extractor=vlad) for path_image in images]\n",
    "  \n",
    "  chi2_distance = Distances.Distance.chi2_distance\n",
    "  \n",
    "  accuracy_value = accuracy_calculator(np.array(images_pre), writers, vlad, chi2_distance)\n",
    "  \n",
    "  return accuracy_value"
   ]
  },
  {
   "cell_type": "code",
   "execution_count": null,
   "metadata": {
    "colab": {},
    "colab_type": "code",
    "executionInfo": {
     "elapsed": 505,
     "status": "ok",
     "timestamp": 1600298564162,
     "user": {
      "displayName": "Hicham DAHMOU",
      "photoUrl": "https://lh3.googleusercontent.com/a-/AOh14Gjm8kQzgY5jvkxdwk_t5QfvV2mshFznHs3bho_6=s64",
      "userId": "01305248723403302361"
     },
     "user_tz": -60
    },
    "id": "v9KwrAQlccb_"
   },
   "outputs": [],
   "source": [
    "writers, images = load_dataset_all(WORK_DIR)\n",
    "X_test, y_test = get_test_sample(images, writers, configuration[\"test_sample_size\"])"
   ]
  },
  {
   "cell_type": "code",
   "execution_count": null,
   "metadata": {
    "colab": {
     "base_uri": "https://localhost:8080/",
     "height": 391
    },
    "colab_type": "code",
    "executionInfo": {
     "elapsed": 71475,
     "status": "ok",
     "timestamp": 1600301432519,
     "user": {
      "displayName": "Hicham DAHMOU",
      "photoUrl": "https://lh3.googleusercontent.com/a-/AOh14Gjm8kQzgY5jvkxdwk_t5QfvV2mshFznHs3bho_6=s64",
      "userId": "01305248723403302361"
     },
     "user_tz": -60
    },
    "id": "yXmCSomdTRru",
    "outputId": "bb7f49c7-b485-4f68-9d98-5f7583894bea"
   },
   "outputs": [],
   "source": [
    "accuracy_value = test_sift_descr_vlad(images=X_test,\n",
    "                    writers=y_test,\n",
    "                    cluster_centers_path=BASE_FOLDER+configuration[\"path_cluster_centers\"],\n",
    "                    accuracy_calculator = accuracy_optimised,\n",
    "                    pca_path=BASE_FOLDER+configuration[\"path_pca_model\"])\n",
    "\n",
    "print()\n",
    "print(\"Accuracy value for\", training_object,\" :\",accuracy_value*100,\"%\")"
   ]
  }
 ],
 "metadata": {
  "colab": {
   "authorship_tag": "ABX9TyN1Av1AxoIJt09T4T+Vq+OF",
   "collapsed_sections": [],
   "name": "Training_Sift_Vlad.ipynb",
   "provenance": [],
   "toc_visible": true
  },
  "kernelspec": {
   "display_name": "Python 3",
   "language": "python",
   "name": "python3"
  }
 },
 "nbformat": 4,
 "nbformat_minor": 1
}
