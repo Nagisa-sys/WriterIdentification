{
 "cells": [
  {
   "cell_type": "markdown",
   "metadata": {
    "colab_type": "text",
    "id": "IrBH7xooZE0F"
   },
   "source": [
    "# Modules Importation and preparation"
   ]
  },
  {
   "cell_type": "code",
   "execution_count": null,
   "metadata": {
    "colab": {},
    "colab_type": "code",
    "id": "qefop7hQWcmx"
   },
   "outputs": [],
   "source": [
    "WORK_DIR = \".\"\n",
    "%cd \".\""
   ]
  },
  {
   "cell_type": "code",
   "execution_count": null,
   "metadata": {
    "colab": {},
    "colab_type": "code",
    "id": "VIYN0tcxWFOI"
   },
   "outputs": [],
   "source": [
    "import Clusterer, Global_feature_exractors, Local_features_extractor, Norms, Image, PCA_reduction, Distances\n",
    "from Dataset_loader import train_test_IAM, train_test_ICDAR2013, train_test_TrigraphSlant\n",
    "from Accuracy import accuracy_optimised\n",
    "import json, os\n",
    "import numpy as np"
   ]
  },
  {
   "cell_type": "code",
   "execution_count": null,
   "metadata": {
    "colab": {},
    "colab_type": "code",
    "id": "LuOrRyQHWe2z"
   },
   "outputs": [],
   "source": [
    "training_session = \"training_16Sep\"\n",
    "\n",
    "with open(\"./config_train.json\") as config_file:\n",
    "    configuration = json.load(config_file)[\"Sift_Bow\"][training_session]\n",
    "\n",
    "CLUSTERS_CENTERS_PATH = training_session+\"/centers_clusters_BOW.npy\"\n",
    "\n",
    "if not os.path.exists(training_session):\n",
    "  os.mkdir(training_session)"
   ]
  },
  {
   "cell_type": "code",
   "execution_count": null,
   "metadata": {
    "colab": {},
    "colab_type": "code",
    "id": "YTTBYNCawPEu"
   },
   "outputs": [],
   "source": [
    "train, test = train_test_TrigraphSlant(\"./dataset/TrigraphSlant\", size_train=configuration[\"train_size\"], size_test=configuration[\"test_size\"])\n",
    "_, _, images_train_set = map(list, zip(*train))\n",
    "writers_test_set, images_names_test_set, images_test_set = map(list, zip(*test))"
   ]
  },
  {
   "cell_type": "markdown",
   "metadata": {
    "colab_type": "text",
    "id": "n6wAOFhCXZKz"
   },
   "source": [
    "# Train Model"
   ]
  },
  {
   "cell_type": "code",
   "execution_count": null,
   "metadata": {
    "colab": {},
    "colab_type": "code",
    "id": "qWB3Vk6KKRyF"
   },
   "outputs": [],
   "source": [
    "def prepare_list_descriptors_to_cluster(images):\n",
    "    hellinger_normalization = Norms.Norm.hellinger_normalization\n",
    "    sift = Local_features_extractor.Local_feature_exractor(hellinger_normalization)\n",
    "    images_pre = [Image.Image(image, local_feature_extractor=sift, verbose=False) for image in images]\n",
    "  \n",
    "    descriptor_list = []\n",
    "    [descriptor_list.extend(image.local_descriptors) for image in images_pre]\n",
    "    \n",
    "    return descriptor_list"
   ]
  },
  {
   "cell_type": "code",
   "execution_count": null,
   "metadata": {
    "colab": {},
    "colab_type": "code",
    "id": "Zw1NebD4WOie"
   },
   "outputs": [],
   "source": [
    "list_local_descriptors = prepare_list_descriptors_to_cluster(images=images_train_set)"
   ]
  },
  {
   "cell_type": "code",
   "execution_count": null,
   "metadata": {
    "colab": {},
    "colab_type": "code",
    "id": "gUZGQKIDKZrh"
   },
   "outputs": [],
   "source": [
    "Clusterer.Clusterer.elbow_method_kmeans(vectors=list_local_descriptors, \n",
    "                                        max_no_improvement=configuration[\"max_no_improvement\"], \n",
    "                                        test_values=range(1, 401, 50),\n",
    "                                        verbose=1)"
   ]
  },
  {
   "cell_type": "code",
   "execution_count": null,
   "metadata": {
    "colab": {},
    "colab_type": "code",
    "id": "RQQNRQVXKb0G"
   },
   "outputs": [],
   "source": [
    "nb_clusters_kmeans = 50"
   ]
  },
  {
   "cell_type": "code",
   "execution_count": null,
   "metadata": {
    "colab": {},
    "colab_type": "code",
    "id": "dQbn81qoWpEk"
   },
   "outputs": [],
   "source": [
    "Clusterer.Clusterer.fit_new_trainig(list_local_descriptors, \n",
    "                                     path_to_save=CLUSTERS_CENTERS_PATH, \n",
    "                                     nb_clusters=nb_clusters_kmeans, \n",
    "                                     max_no_improvement=configuration[\"max_no_improvement\"],\n",
    "                                     verbose=0)"
   ]
  },
  {
   "cell_type": "markdown",
   "metadata": {
    "colab_type": "text",
    "id": "VPUs9axBXgTi"
   },
   "source": [
    "# Test Model"
   ]
  },
  {
   "cell_type": "code",
   "execution_count": null,
   "metadata": {
    "colab": {},
    "colab_type": "code",
    "id": "sqvs-gIIpXIN"
   },
   "outputs": [],
   "source": [
    "import importlib, Dataset_loader\n",
    "importlib.reload(Clusterer)"
   ]
  },
  {
   "cell_type": "code",
   "execution_count": null,
   "metadata": {
    "colab": {},
    "colab_type": "code",
    "id": "aN1o2YP2ncD8"
   },
   "outputs": [],
   "source": [
    "def test_sift_descr_bow(images, images_names, writers, cluster_centers_path, accuracy_calculator):\n",
    "  \n",
    "  hellinger_normalization = Norms.Norm.hellinger_normalization\n",
    "  sift = Local_features_extractor.Local_feature_exractor(hellinger_normalization)\n",
    "\n",
    "  clusters_centers = Clusterer.Clusterer.fit_ancient_data(cluster_centers_path)\n",
    "  bow = Global_feature_exractors.BOW(clusters_centers)\n",
    "\n",
    "  images_pre = [Image.Image(image, image_name=image_name, local_feature_extractor=sift, global_feature_extractor=bow) for image, image_name in zip(images,images_names)]\n",
    "\n",
    "  chi2_distance = Distances.Distance.chi2_distance\n",
    "  accuracy_value = accuracy_calculator(X_test=images_pre, \n",
    "                                       Y_test=writers, \n",
    "                                       global_feature_extractor=bow, \n",
    "                                       distance_metric=chi2_distance)\n",
    "  return accuracy_value"
   ]
  },
  {
   "cell_type": "code",
   "execution_count": null,
   "metadata": {
    "colab": {},
    "colab_type": "code",
    "id": "WH0kOMiToBNc"
   },
   "outputs": [],
   "source": [
    "accuracy_value= test_sift_descr_bow(images=images_test_set, \n",
    "                                    images_names=images_names_test_set,\n",
    "                                    writers=writers_test_set, \n",
    "                                    cluster_centers_path=CLUSTERS_CENTERS_PATH,\n",
    "                                    accuracy_calculator=accuracy_optimised)\n",
    "\n",
    "print()\n",
    "print(\"Accuracy value for <\", training_session,\"> : \",\"{:.2%}\".format(accuracy_value), sep=\"\")"
   ]
  }
 ],
 "metadata": {
  "colab": {
   "authorship_tag": "ABX9TyNqc4Ar7zecc4PiCNwW/Xgw",
   "collapsed_sections": [],
   "name": "Training_Sift_Bow.ipynb",
   "provenance": [],
   "toc_visible": true
  },
  "kernelspec": {
   "display_name": "Python 3",
   "language": "python",
   "name": "python3"
  }
 },
 "nbformat": 4,
 "nbformat_minor": 1
}