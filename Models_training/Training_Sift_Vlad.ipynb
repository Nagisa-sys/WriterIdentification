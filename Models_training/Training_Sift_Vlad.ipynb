{
 "cells": [
  {
   "cell_type": "markdown",
   "metadata": {
    "colab_type": "text",
    "id": "bXwLceE5H5N8"
   },
   "source": [
    "# Modules Importation and preparation"
   ]
  },
  {
   "cell_type": "code",
   "execution_count": null,
   "metadata": {
    "colab": {},
    "colab_type": "code",
    "id": "O4ZLD2fcCTdE"
   },
   "outputs": [],
   "source": [
    "WORK_DIR = \".\"\n",
    "%cd \".\""
   ]
  },
  {
   "cell_type": "code",
   "execution_count": null,
   "metadata": {
    "colab": {},
    "colab_type": "code",
    "id": "rhnEg7l3CfKT"
   },
   "outputs": [],
   "source": [
    "import Clusterer, Global_feature_exractors, Local_features_extractor, Norms, Image, PCA_reduction, Distances\n",
    "from Dataset_loader import train_test_IAM, train_test_ICDAR2013, train_test_TrigraphSlant\n",
    "from Accuracy import accuracy_optimised\n",
    "import json, os\n",
    "from sklearn.neighbors import BallTree\n",
    "import numpy as np"
   ]
  },
  {
   "cell_type": "markdown",
   "metadata": {
    "colab_type": "text",
    "id": "MsfxHSkLIENG"
   },
   "source": [
    "Precise the key of the entry in config_train.json file"
   ]
  },
  {
   "cell_type": "code",
   "execution_count": null,
   "metadata": {
    "colab": {},
    "colab_type": "code",
    "id": "pXdfrEKCClgT"
   },
   "outputs": [],
   "source": [
    "training_session = \"training_16Sep\"\n",
    "\n",
    "with open(\"./config_train.json\") as config_file:\n",
    "  configuration = json.load(config_file)[\"Sift_Vlad_Pca\"][training_session]\n",
    "\n",
    "CLUSTERS_CENTERS_PATH = training_session+\"/centers_clusters_VLAD.npy\"\n",
    "PCA_MODEL_PATH = training_session+\"/pca_model_VLAD.pkl\"\n",
    "\n",
    "if not os.path.exists(training_session):\n",
    "  os.mkdir(training_session)"
   ]
  },
  {
   "cell_type": "code",
   "execution_count": null,
   "metadata": {
    "colab": {},
    "colab_type": "code",
    "id": "ztW_QJ8U1y_z"
   },
   "outputs": [],
   "source": [
    "train, test = train_test_IAM(\"./dataset/IAM\", size_train=configuration[\"train_size\"], size_test=configuration[\"test_size\"])\n",
    "_, _, images_train_set = map(list, zip(*train))\n",
    "writers_test_set, images_names_test_set, images_test_set = map(list, zip(*test))"
   ]
  },
  {
   "cell_type": "markdown",
   "metadata": {
    "colab_type": "text",
    "id": "NU8j6FpeTifM"
   },
   "source": [
    "# Train Model"
   ]
  },
  {
   "cell_type": "code",
   "execution_count": null,
   "metadata": {
    "colab": {},
    "colab_type": "code",
    "id": "xN4kR1WNloss"
   },
   "outputs": [],
   "source": [
    "def prepare_list_descriptors_to_cluster(images):\n",
    "    hellinger_normalization = Norms.Norm.hellinger_normalization\n",
    "    sift = Local_features_extractor.Local_feature_exractor(hellinger_normalization)\n",
    "    images_pre = [Image.Image(image, local_feature_extractor=sift, verbose=False) for image in images]\n",
    "  \n",
    "    descriptor_list = []\n",
    "    [descriptor_list.extend(image.local_descriptors) for image in images_pre]\n",
    "    \n",
    "    return descriptor_list"
   ]
  },
  {
   "cell_type": "code",
   "execution_count": null,
   "metadata": {
    "colab": {},
    "colab_type": "code",
    "id": "qWX-U427FLSP"
   },
   "outputs": [],
   "source": [
    "Clusterer.Clusterer.elbow_method_kmeans(vectors=list_local_descriptors, \n",
    "                                     max_no_improvement=configuration[\"max_no_improvement\"], \n",
    "                                     test_values=range(1, 401, 50),\n",
    "                                     verbose=1)"
   ]
  },
  {
   "cell_type": "code",
   "execution_count": null,
   "metadata": {
    "colab": {},
    "colab_type": "code",
    "id": "fGYGVmNCmFJw"
   },
   "outputs": [],
   "source": [
    "nb_clusters_kmeans = 50"
   ]
  },
  {
   "cell_type": "code",
   "execution_count": null,
   "metadata": {
    "colab": {},
    "colab_type": "code",
    "id": "jCGorkTMmAeZ"
   },
   "outputs": [],
   "source": [
    "Clusterer.Clusterer.fit_new_trainig(list_local_descriptors, \n",
    "                                     path_to_save=CLUSTERS_CENTERS_PATH, \n",
    "                                     nb_clusters=nb_clusters_kmeans, \n",
    "                                     max_no_improvement=configuration[\"max_no_improvement\"],\n",
    "                                     verbose=0)"
   ]
  },
  {
   "cell_type": "code",
   "execution_count": null,
   "metadata": {
    "colab": {},
    "colab_type": "code",
    "id": "E_der7fTCi7b"
   },
   "outputs": [],
   "source": [
    "def new_pca_components_vlad(images, path_to_save_pca, cluster_centers_path, percentage_variance):\n",
    "\tclusters_centers = Clusterer.Clusterer.fit_ancient_data(cluster_centers_path)\n",
    "\tvlad = Global_feature_exractors.VLAD(clusters_centers)\n",
    "\n",
    "\thellinger_normalization = Norms.Norm.hellinger_normalization\n",
    "\tsift = Local_features_extractor.Local_feature_exractor(hellinger_normalization)\n",
    "\n",
    "\timages_pre = [Image.Image(path_image, local_feature_extractor=sift, global_feature_extractor=vlad, verbose=False) for path_image in images]\n",
    "\tvlad_vectors = [image.global_descriptor for image in images_pre]\n",
    "\n",
    "\tPCA_reduction.PCA_reduction.plot_variance_nbComponents(vlad_vectors, percentage_variance=percentage_variance)\n",
    "\n",
    "\tPCA_reduction.PCA_reduction.create_new_pca_model(vectors=vlad_vectors, \n",
    "\t                                                 path_to_save=path_to_save_pca, \n",
    "\t\t\t\t\t\t\t\t\t\t\t\t\t\t\t\t\t\t\t\t\t\t\t\t\t percentage_variance=percentage_variance)"
   ]
  },
  {
   "cell_type": "code",
   "execution_count": null,
   "metadata": {
    "colab": {},
    "colab_type": "code",
    "id": "k8R6F9n7CtuU"
   },
   "outputs": [],
   "source": [
    "new_pca_components_vlad(images=images_train_set,\n",
    "                        path_to_save_pca=PCA_MODEL_PATH, \n",
    "                        cluster_centers_path=CLUSTERS_CENTERS_PATH, \n",
    "                        percentage_variance=configuration[\"pca_percentage_variance\"])"
   ]
  },
  {
   "cell_type": "markdown",
   "metadata": {
    "colab_type": "text",
    "id": "9QZ2D331Tl4_"
   },
   "source": [
    "# Test Model"
   ]
  },
  {
   "cell_type": "code",
   "execution_count": null,
   "metadata": {
    "colab": {},
    "colab_type": "code",
    "id": "BXj_hOM8FCUg"
   },
   "outputs": [],
   "source": [
    "import importlib\n",
    "importlib.reload(Clusterer)"
   ]
  },
  {
   "cell_type": "code",
   "execution_count": null,
   "metadata": {
    "colab": {},
    "colab_type": "code",
    "id": "r5ix1jzpTCn-"
   },
   "outputs": [],
   "source": [
    "def test_sift_descr_vlad(images, images_names, writers, cluster_centers_path, accuracy_calculator, pca_path=None):\n",
    "  \n",
    "  hellinger_normalization = Norms.Norm.hellinger_normalization\n",
    "  sift = Local_features_extractor.Local_feature_exractor(hellinger_normalization)\n",
    "\n",
    "  clusters_centers = Clusterer.Clusterer.fit_ancient_data(cluster_centers_path)\n",
    "  if pca_path is not None: pca_instance = PCA_reduction.PCA_reduction(pca_path)\n",
    "  else: pca_instance = None\n",
    "  vlad = Global_feature_exractors.VLAD(clusters_centers, pca_instance=pca_instance)\n",
    "\n",
    "  images_pre = [Image.Image(image, image_name=image_name, local_feature_extractor=sift, global_feature_extractor=vlad) for image, image_name in zip(images,images_names)]\n",
    "  \n",
    "  chi2_distance = Distances.Distance.chi2_distance\n",
    "  accuracy_value = accuracy_calculator(X_test=np.array(images_pre), \n",
    "                                       Y_test=writers, \n",
    "                                       global_feature_extractor=vlad, \n",
    "                                       distance_metric=chi2_distance)\n",
    "  return accuracy_value"
   ]
  },
  {
   "cell_type": "code",
   "execution_count": null,
   "metadata": {
    "colab": {},
    "colab_type": "code",
    "id": "yXmCSomdTRru"
   },
   "outputs": [],
   "source": [
    "accuracy_value = test_sift_descr_vlad(images=images_test_set,\n",
    "                                      images_names=images_names_test_set,\n",
    "                                      writers=writers_test_set,\n",
    "                                      cluster_centers_path=CLUSTERS_CENTERS_PATH,\n",
    "                                      accuracy_calculator = accuracy_optimised,\n",
    "                                      pca_path=PCA_MODEL_PATH)\n",
    "\n",
    "print()\n",
    "print(\"Accuracy value for <\", training_session,\"> : \",\"{:.2%}\".format(accuracy_value), sep=\"\")"
   ]
  }
 ],
 "metadata": {
  "colab": {
   "authorship_tag": "ABX9TyPtfqCB0WeyjVJgmcc4N0Cq",
   "collapsed_sections": [],
   "name": "Training_Sift_Vlad.ipynb",
   "provenance": []
  },
  "kernelspec": {
   "display_name": "Python 3",
   "language": "python",
   "name": "python3"
  }
 },
 "nbformat": 4,
 "nbformat_minor": 1
}