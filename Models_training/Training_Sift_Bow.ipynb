{
 "cells": [
  {
   "cell_type": "markdown",
   "metadata": {
    "colab_type": "text",
    "id": "IrBH7xooZE0F"
   },
   "source": [
    "#Modules Importation and preparation"
   ]
  },
  {
   "cell_type": "code",
   "execution_count": null,
   "metadata": {},
   "outputs": [],
   "source": [
    "#specify the working directory and cd into it\n",
    "WORK_DIR = \"\"\n",
    "% cd \"\""
   ]
  },
  {
   "cell_type": "code",
   "execution_count": null,
   "metadata": {
    "colab": {},
    "colab_type": "code",
    "executionInfo": {
     "elapsed": 17978,
     "status": "ok",
     "timestamp": 1600297708960,
     "user": {
      "displayName": "Hicham DAHMOU",
      "photoUrl": "https://lh3.googleusercontent.com/a-/AOh14Gjm8kQzgY5jvkxdwk_t5QfvV2mshFznHs3bho_6=s64",
      "userId": "01305248723403302361"
     },
     "user_tz": -60
    },
    "id": "VIYN0tcxWFOI"
   },
   "outputs": [],
   "source": [
    "import Clusterer, Global_feature_exractors, Local_features_extractor, Norms, Image, PCA_reduction, Distances\n",
    "from Dataset_loader import load_dataset_all, load_dataset_IAM\n",
    "import json, os\n",
    "import numpy as np\n",
    "from testing import get_test_sample, accuracy_optimised"
   ]
  },
  {
   "cell_type": "code",
   "execution_count": null,
   "metadata": {
    "colab": {},
    "colab_type": "code",
    "executionInfo": {
     "elapsed": 16378,
     "status": "ok",
     "timestamp": 1600297708963,
     "user": {
      "displayName": "Hicham DAHMOU",
      "photoUrl": "https://lh3.googleusercontent.com/a-/AOh14Gjm8kQzgY5jvkxdwk_t5QfvV2mshFznHs3bho_6=s64",
      "userId": "01305248723403302361"
     },
     "user_tz": -60
    },
    "id": "LuOrRyQHWe2z"
   },
   "outputs": [],
   "source": [
    "training_object = \"training_16Sep\""
   ]
  },
  {
   "cell_type": "code",
   "execution_count": null,
   "metadata": {
    "colab": {},
    "colab_type": "code",
    "executionInfo": {
     "elapsed": 15522,
     "status": "ok",
     "timestamp": 1600297709250,
     "user": {
      "displayName": "Hicham DAHMOU",
      "photoUrl": "https://lh3.googleusercontent.com/a-/AOh14Gjm8kQzgY5jvkxdwk_t5QfvV2mshFznHs3bho_6=s64",
      "userId": "01305248723403302361"
     },
     "user_tz": -60
    },
    "id": "0cXAold9WicA"
   },
   "outputs": [],
   "source": [
    "with open(\"./config_train.json\") as config_file:\n",
    "    configuration = json.load(config_file)[\"Sift_Bow\"][training_object]"
   ]
  },
  {
   "cell_type": "code",
   "execution_count": null,
   "metadata": {
    "colab": {},
    "colab_type": "code",
    "executionInfo": {
     "elapsed": 14677,
     "status": "ok",
     "timestamp": 1600297709251,
     "user": {
      "displayName": "Hicham DAHMOU",
      "photoUrl": "https://lh3.googleusercontent.com/a-/AOh14Gjm8kQzgY5jvkxdwk_t5QfvV2mshFznHs3bho_6=s64",
      "userId": "01305248723403302361"
     },
     "user_tz": -60
    },
    "id": "XEu5HSUxZWa-"
   },
   "outputs": [],
   "source": [
    "BASE_FOLDER = configuration[\"base_folder\"]\n",
    "if not os.path.exists(BASE_FOLDER):\n",
    "  os.mkdir(BASE_FOLDER)"
   ]
  },
  {
   "cell_type": "markdown",
   "metadata": {
    "colab_type": "text",
    "id": "n6wAOFhCXZKz"
   },
   "source": [
    "#Train Model"
   ]
  },
  {
   "cell_type": "code",
   "execution_count": null,
   "metadata": {
    "colab": {},
    "colab_type": "code",
    "executionInfo": {
     "elapsed": 650,
     "status": "ok",
     "timestamp": 1600297745119,
     "user": {
      "displayName": "Hicham DAHMOU",
      "photoUrl": "https://lh3.googleusercontent.com/a-/AOh14Gjm8kQzgY5jvkxdwk_t5QfvV2mshFznHs3bho_6=s64",
      "userId": "01305248723403302361"
     },
     "user_tz": -60
    },
    "id": "Zw1NebD4WOie"
   },
   "outputs": [],
   "source": [
    "def new_cluster_centers(images, path_to_save, nb_clusters, max_no_improvement):\n",
    "\thellinger_normalization = Norms.Norm.hellinger_normalization\n",
    "\tlocal_features_extractor = Local_features_extractor.Local_feature_exractor(hellinger_normalization)\n",
    "\n",
    "\timages_pre = [Image.Image(path_image, local_features_extractor, verbose=False) for path_image in images]\n",
    "\tprint(\"All images prepared!\")\n",
    " \n",
    "\tClusterer.Clusterer.fit_new_trainig(images_pre, \n",
    "                                        path_to_save, \n",
    "                                        nb_clusters=nb_clusters, \n",
    "                                        max_no_improvement=max_no_improvement,\n",
    "                                        verbose=0)"
   ]
  },
  {
   "cell_type": "code",
   "execution_count": null,
   "metadata": {
    "colab": {},
    "colab_type": "code",
    "executionInfo": {
     "elapsed": 586,
     "status": "ok",
     "timestamp": 1600297746514,
     "user": {
      "displayName": "Hicham DAHMOU",
      "photoUrl": "https://lh3.googleusercontent.com/a-/AOh14Gjm8kQzgY5jvkxdwk_t5QfvV2mshFznHs3bho_6=s64",
      "userId": "01305248723403302361"
     },
     "user_tz": -60
    },
    "id": "qWB3Vk6KKRyF"
   },
   "outputs": [],
   "source": [
    "def choose_cluster_centers(images, max_no_improvement):\n",
    "  hellinger_normalization = Norms.Norm.hellinger_normalization\n",
    "  local_features_extractor = Local_features_extractor.Local_feature_exractor(hellinger_normalization)\n",
    "\n",
    "  images_pre = [Image.Image(path_image, local_features_extractor, verbose=False) for path_image in images]\n",
    "  print(\"All images prepared!\")\n",
    "\n",
    "  Clusterer.Clusterer.elbow_method_kmeans(images_pre, max_no_improvement=max_no_improvement)"
   ]
  },
  {
   "cell_type": "code",
   "execution_count": null,
   "metadata": {
    "colab": {},
    "colab_type": "code",
    "executionInfo": {
     "elapsed": 15444,
     "status": "ok",
     "timestamp": 1600297762542,
     "user": {
      "displayName": "Hicham DAHMOU",
      "photoUrl": "https://lh3.googleusercontent.com/a-/AOh14Gjm8kQzgY5jvkxdwk_t5QfvV2mshFznHs3bho_6=s64",
      "userId": "01305248723403302361"
     },
     "user_tz": -60
    },
    "id": "MnMVSUUJWnOh"
   },
   "outputs": [],
   "source": [
    "_, images = load_dataset_all(WORK_DIR)\n",
    "nb_images_treat = configuration[\"nb_images_treat\"]"
   ]
  },
  {
   "cell_type": "code",
   "execution_count": null,
   "metadata": {
    "colab": {
     "base_uri": "https://localhost:8080/",
     "height": 951
    },
    "colab_type": "code",
    "executionInfo": {
     "elapsed": 434110,
     "status": "ok",
     "timestamp": 1600298182706,
     "user": {
      "displayName": "Hicham DAHMOU",
      "photoUrl": "https://lh3.googleusercontent.com/a-/AOh14Gjm8kQzgY5jvkxdwk_t5QfvV2mshFznHs3bho_6=s64",
      "userId": "01305248723403302361"
     },
     "user_tz": -60
    },
    "id": "gUZGQKIDKZrh",
    "outputId": "0f6ff034-91e6-4a23-b090-dc41d34b09a4"
   },
   "outputs": [],
   "source": [
    "choose_cluster_centers(images=images[:nb_images_treat], max_no_improvement=configuration[\"max_no_improvement\"])"
   ]
  },
  {
   "cell_type": "code",
   "execution_count": null,
   "metadata": {
    "colab": {},
    "colab_type": "code",
    "executionInfo": {
     "elapsed": 433128,
     "status": "ok",
     "timestamp": 1600298182709,
     "user": {
      "displayName": "Hicham DAHMOU",
      "photoUrl": "https://lh3.googleusercontent.com/a-/AOh14Gjm8kQzgY5jvkxdwk_t5QfvV2mshFznHs3bho_6=s64",
      "userId": "01305248723403302361"
     },
     "user_tz": -60
    },
    "id": "RQQNRQVXKb0G"
   },
   "outputs": [],
   "source": [
    "nb_clusters_kmeans = 50"
   ]
  },
  {
   "cell_type": "code",
   "execution_count": null,
   "metadata": {
    "colab": {
     "base_uri": "https://localhost:8080/",
     "height": 34
    },
    "colab_type": "code",
    "executionInfo": {
     "elapsed": 104847,
     "status": "ok",
     "timestamp": 1600298363830,
     "user": {
      "displayName": "Hicham DAHMOU",
      "photoUrl": "https://lh3.googleusercontent.com/a-/AOh14Gjm8kQzgY5jvkxdwk_t5QfvV2mshFznHs3bho_6=s64",
      "userId": "01305248723403302361"
     },
     "user_tz": -60
    },
    "id": "dQbn81qoWpEk",
    "outputId": "1f8b9be6-dc78-412b-e10f-a361003fc8de"
   },
   "outputs": [],
   "source": [
    "nb_images_treat = configuration[\"nb_images_treat\"]\n",
    "new_cluster_centers(images=images[:nb_images_treat],\n",
    "                    path_to_save=BASE_FOLDER+configuration[\"path_cluster_centers\"], \n",
    "                    nb_clusters=nb_clusters_kmeans,\n",
    "                    max_no_improvement=configuration[\"max_no_improvement\"])"
   ]
  },
  {
   "cell_type": "markdown",
   "metadata": {
    "colab_type": "text",
    "id": "VPUs9axBXgTi"
   },
   "source": [
    "#Test Model"
   ]
  },
  {
   "cell_type": "code",
   "execution_count": null,
   "metadata": {
    "colab": {
     "base_uri": "https://localhost:8080/",
     "height": 34
    },
    "colab_type": "code",
    "executionInfo": {
     "elapsed": 1244,
     "status": "ok",
     "timestamp": 1600298386405,
     "user": {
      "displayName": "Hicham DAHMOU",
      "photoUrl": "https://lh3.googleusercontent.com/a-/AOh14Gjm8kQzgY5jvkxdwk_t5QfvV2mshFznHs3bho_6=s64",
      "userId": "01305248723403302361"
     },
     "user_tz": -60
    },
    "id": "sqvs-gIIpXIN",
    "outputId": "795580ba-d182-4b87-caa5-30759316cd8b"
   },
   "outputs": [],
   "source": [
    "import importlib, Dataset_loader\n",
    "importlib.reload(Dataset_loader)"
   ]
  },
  {
   "cell_type": "code",
   "execution_count": null,
   "metadata": {
    "colab": {},
    "colab_type": "code",
    "executionInfo": {
     "elapsed": 709,
     "status": "ok",
     "timestamp": 1600298387321,
     "user": {
      "displayName": "Hicham DAHMOU",
      "photoUrl": "https://lh3.googleusercontent.com/a-/AOh14Gjm8kQzgY5jvkxdwk_t5QfvV2mshFznHs3bho_6=s64",
      "userId": "01305248723403302361"
     },
     "user_tz": -60
    },
    "id": "aN1o2YP2ncD8"
   },
   "outputs": [],
   "source": [
    "def test_sift_descr_bow(images, writers, cluster_centers_path, accuracy_calculator):\n",
    "  \n",
    "  hellinger_normalization = Norms.Norm.hellinger_normalization\n",
    "  local_features_extractor = Local_features_extractor.Local_feature_exractor(hellinger_normalization)\n",
    "\n",
    "  clusters_centers = Clusterer.Clusterer.fit_ancient_data(cluster_centers_path)\n",
    "  bow = Global_feature_exractors.BOW(clusters_centers)\n",
    "\n",
    "  images_pre = [Image.Image(path_image, local_features_extractor, global_feature_extractor=bow) for path_image in images]\n",
    "\n",
    "  chi2_distance = Distances.Distance.chi2_distance\n",
    "  accuracy_value = accuracy_calculator(images_pre, writers, bow, chi2_distance)\n",
    "\n",
    "  return accuracy_value"
   ]
  },
  {
   "cell_type": "code",
   "execution_count": null,
   "metadata": {
    "colab": {},
    "colab_type": "code",
    "executionInfo": {
     "elapsed": 570,
     "status": "ok",
     "timestamp": 1600298431985,
     "user": {
      "displayName": "Hicham DAHMOU",
      "photoUrl": "https://lh3.googleusercontent.com/a-/AOh14Gjm8kQzgY5jvkxdwk_t5QfvV2mshFznHs3bho_6=s64",
      "userId": "01305248723403302361"
     },
     "user_tz": -60
    },
    "id": "5ot1AJrSnco8"
   },
   "outputs": [],
   "source": [
    "writers, images = load_dataset_all(WORK_DIR)\n",
    "X_test, y_test = get_test_sample(images, writers, configuration[\"test_sample_size\"])"
   ]
  },
  {
   "cell_type": "code",
   "execution_count": null,
   "metadata": {
    "colab": {
     "base_uri": "https://localhost:8080/",
     "height": 561
    },
    "colab_type": "code",
    "executionInfo": {
     "elapsed": 102442,
     "status": "ok",
     "timestamp": 1600298534714,
     "user": {
      "displayName": "Hicham DAHMOU",
      "photoUrl": "https://lh3.googleusercontent.com/a-/AOh14Gjm8kQzgY5jvkxdwk_t5QfvV2mshFznHs3bho_6=s64",
      "userId": "01305248723403302361"
     },
     "user_tz": -60
    },
    "id": "WH0kOMiToBNc",
    "outputId": "37e951cc-ba2c-436c-fed9-5eaf02032e25"
   },
   "outputs": [],
   "source": [
    "accuracy_value= test_sift_descr_bow(images=X_test, \n",
    "                                    writers=y_test, \n",
    "                                    cluster_centers_path=BASE_FOLDER+configuration[\"path_cluster_centers\"],\n",
    "                                    accuracy_calculator=accuracy_optimised)\n",
    "\n",
    "print()\n",
    "print(\"Accuracy value for\", training_object,\" :\",accuracy_value*100,\"%\")"
   ]
  }
 ],
 "metadata": {
  "colab": {
   "authorship_tag": "ABX9TyOuzfamEbApX9CPTfxZ6JBJ",
   "collapsed_sections": [],
   "name": "Training_Sift_Bow.ipynb",
   "provenance": [],
   "toc_visible": true
  },
  "kernelspec": {
   "display_name": "Python 3",
   "language": "python",
   "name": "python3"
  }
 },
 "nbformat": 4,
 "nbformat_minor": 1
}
